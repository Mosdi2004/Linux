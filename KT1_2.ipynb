{
 "cells": [
  {
   "cell_type": "code",
   "execution_count": 1,
   "metadata": {},
   "outputs": [],
   "source": [
    "import pandas as pd"
   ]
  },
  {
   "cell_type": "code",
   "execution_count": 3,
   "metadata": {},
   "outputs": [],
   "source": [
    "import redis as rd"
   ]
  },
  {
   "cell_type": "code",
   "execution_count": 4,
   "metadata": {},
   "outputs": [],
   "source": [
    "r=rd.Redis(host='localhost', db=0)"
   ]
  },
  {
   "cell_type": "code",
   "execution_count": 5,
   "metadata": {},
   "outputs": [],
   "source": [
    "D = pd.read_csv(\"https://github.com/junaart/ForStudents/raw/refs/heads/main/R/Zachet/DataSets/7.csv\")"
   ]
  },
  {
   "cell_type": "code",
   "execution_count": 6,
   "metadata": {},
   "outputs": [
    {
     "data": {
      "text/html": [
       "<div>\n",
       "<style scoped>\n",
       "    .dataframe tbody tr th:only-of-type {\n",
       "        vertical-align: middle;\n",
       "    }\n",
       "\n",
       "    .dataframe tbody tr th {\n",
       "        vertical-align: top;\n",
       "    }\n",
       "\n",
       "    .dataframe thead th {\n",
       "        text-align: right;\n",
       "    }\n",
       "</style>\n",
       "<table border=\"1\" class=\"dataframe\">\n",
       "  <thead>\n",
       "    <tr style=\"text-align: right;\">\n",
       "      <th></th>\n",
       "      <th>id</th>\n",
       "      <th>region</th>\n",
       "      <th>Субсидии на ГЗ из местных бюджетов 2015</th>\n",
       "      <th>Субсидии на ГЗ из федерального бюджета 2015</th>\n",
       "      <th>Субсидии на НИОКР из местного бюджета 2015</th>\n",
       "      <th>Субсидии на НИОКР из федерального бюджета 2015</th>\n",
       "      <th>Гранты из местного бюджета 2015</th>\n",
       "      <th>Гранты из федерального бюджета 2015</th>\n",
       "      <th>Конкурсное финансирование из местного бюджета 2015</th>\n",
       "      <th>Конкурсное финансирование из федерального бюджета 2015</th>\n",
       "      <th>...</th>\n",
       "      <th>Субсидии на ГЗ из местных бюджетов 2016</th>\n",
       "      <th>Субсидии на ГЗ из федерального бюджета 2016</th>\n",
       "      <th>Субсидии на НИОКР из местного бюджета 2016</th>\n",
       "      <th>Субсидии на НИОКР из федерального бюджета 2016</th>\n",
       "      <th>Гранты из местного бюджета 2016</th>\n",
       "      <th>Гранты из федерального бюджета 2016</th>\n",
       "      <th>Гранты из прочих источников 2016</th>\n",
       "      <th>Конкурсное финансирование из местного бюджета 2016</th>\n",
       "      <th>Конкурсное финансирование из федерального бюджета 2016</th>\n",
       "      <th>Конкурсное финансирование из прочих источников 2016</th>\n",
       "    </tr>\n",
       "  </thead>\n",
       "  <tbody>\n",
       "    <tr>\n",
       "      <th>0</th>\n",
       "      <td>1</td>\n",
       "      <td>Республика Адыгея</td>\n",
       "      <td>0.0</td>\n",
       "      <td>8189.4</td>\n",
       "      <td>7266.1</td>\n",
       "      <td>0.0</td>\n",
       "      <td>0.0</td>\n",
       "      <td>5450.0</td>\n",
       "      <td>0.0</td>\n",
       "      <td>1554.7</td>\n",
       "      <td>...</td>\n",
       "      <td>0.0</td>\n",
       "      <td>0.0</td>\n",
       "      <td>0.0</td>\n",
       "      <td>0.0</td>\n",
       "      <td>0.0</td>\n",
       "      <td>6735.0</td>\n",
       "      <td>2900.0</td>\n",
       "      <td>4089.8</td>\n",
       "      <td>0.0</td>\n",
       "      <td>19781.8</td>\n",
       "    </tr>\n",
       "    <tr>\n",
       "      <th>1</th>\n",
       "      <td>2</td>\n",
       "      <td>Республика Алтай</td>\n",
       "      <td>0.0</td>\n",
       "      <td>11627.2</td>\n",
       "      <td>0.0</td>\n",
       "      <td>3789.9</td>\n",
       "      <td>6996.0</td>\n",
       "      <td>0.0</td>\n",
       "      <td>722.0</td>\n",
       "      <td>0.0</td>\n",
       "      <td>...</td>\n",
       "      <td>0.0</td>\n",
       "      <td>11598.5</td>\n",
       "      <td>4071.3</td>\n",
       "      <td>0.0</td>\n",
       "      <td>1038.4</td>\n",
       "      <td>400.0</td>\n",
       "      <td>2125.0</td>\n",
       "      <td>250.0</td>\n",
       "      <td>0.0</td>\n",
       "      <td>559.3</td>\n",
       "    </tr>\n",
       "    <tr>\n",
       "      <th>2</th>\n",
       "      <td>3</td>\n",
       "      <td>Республика Башкортостан</td>\n",
       "      <td>77528.6</td>\n",
       "      <td>575325.2</td>\n",
       "      <td>6292.5</td>\n",
       "      <td>47988.5</td>\n",
       "      <td>18445.2</td>\n",
       "      <td>158981.8</td>\n",
       "      <td>11519.1</td>\n",
       "      <td>243266.2</td>\n",
       "      <td>...</td>\n",
       "      <td>110671.8</td>\n",
       "      <td>569761.7</td>\n",
       "      <td>5608.6</td>\n",
       "      <td>33059.9</td>\n",
       "      <td>11982.6</td>\n",
       "      <td>173470.0</td>\n",
       "      <td>4074.8</td>\n",
       "      <td>34625.9</td>\n",
       "      <td>243378.6</td>\n",
       "      <td>77580.3</td>\n",
       "    </tr>\n",
       "    <tr>\n",
       "      <th>3</th>\n",
       "      <td>4</td>\n",
       "      <td>Республика Бурятия</td>\n",
       "      <td>946.0</td>\n",
       "      <td>625422.6</td>\n",
       "      <td>0.0</td>\n",
       "      <td>11176.2</td>\n",
       "      <td>3752.6</td>\n",
       "      <td>18798.8</td>\n",
       "      <td>522.1</td>\n",
       "      <td>3882.1</td>\n",
       "      <td>...</td>\n",
       "      <td>1485.0</td>\n",
       "      <td>616645.7</td>\n",
       "      <td>2041.3</td>\n",
       "      <td>0.0</td>\n",
       "      <td>0.0</td>\n",
       "      <td>14175.0</td>\n",
       "      <td>14018.1</td>\n",
       "      <td>125.6</td>\n",
       "      <td>8550.2</td>\n",
       "      <td>25214.2</td>\n",
       "    </tr>\n",
       "    <tr>\n",
       "      <th>4</th>\n",
       "      <td>5</td>\n",
       "      <td>Республика Дагестан</td>\n",
       "      <td>2794.0</td>\n",
       "      <td>310709.6</td>\n",
       "      <td>1353.6</td>\n",
       "      <td>67092.6</td>\n",
       "      <td>1350.0</td>\n",
       "      <td>14665.4</td>\n",
       "      <td>950.0</td>\n",
       "      <td>1920.0</td>\n",
       "      <td>...</td>\n",
       "      <td>180.0</td>\n",
       "      <td>295616.3</td>\n",
       "      <td>5000.0</td>\n",
       "      <td>15449.0</td>\n",
       "      <td>11660.0</td>\n",
       "      <td>12255.3</td>\n",
       "      <td>9687.2</td>\n",
       "      <td>0.0</td>\n",
       "      <td>0.0</td>\n",
       "      <td>4139.5</td>\n",
       "    </tr>\n",
       "    <tr>\n",
       "      <th>...</th>\n",
       "      <td>...</td>\n",
       "      <td>...</td>\n",
       "      <td>...</td>\n",
       "      <td>...</td>\n",
       "      <td>...</td>\n",
       "      <td>...</td>\n",
       "      <td>...</td>\n",
       "      <td>...</td>\n",
       "      <td>...</td>\n",
       "      <td>...</td>\n",
       "      <td>...</td>\n",
       "      <td>...</td>\n",
       "      <td>...</td>\n",
       "      <td>...</td>\n",
       "      <td>...</td>\n",
       "      <td>...</td>\n",
       "      <td>...</td>\n",
       "      <td>...</td>\n",
       "      <td>...</td>\n",
       "      <td>...</td>\n",
       "      <td>...</td>\n",
       "    </tr>\n",
       "    <tr>\n",
       "      <th>77</th>\n",
       "      <td>83</td>\n",
       "      <td>Ненецкий автономный округ</td>\n",
       "      <td>0.0</td>\n",
       "      <td>3006.4</td>\n",
       "      <td>0.0</td>\n",
       "      <td>0.0</td>\n",
       "      <td>0.0</td>\n",
       "      <td>0.0</td>\n",
       "      <td>0.0</td>\n",
       "      <td>0.0</td>\n",
       "      <td>...</td>\n",
       "      <td>1442.4</td>\n",
       "      <td>3035.7</td>\n",
       "      <td>0.0</td>\n",
       "      <td>0.0</td>\n",
       "      <td>0.0</td>\n",
       "      <td>0.0</td>\n",
       "      <td>0.0</td>\n",
       "      <td>0.0</td>\n",
       "      <td>0.0</td>\n",
       "      <td>0.0</td>\n",
       "    </tr>\n",
       "    <tr>\n",
       "      <th>78</th>\n",
       "      <td>86</td>\n",
       "      <td>Ханты-Мансийский автономный округ – Югра</td>\n",
       "      <td>275572.5</td>\n",
       "      <td>5733.1</td>\n",
       "      <td>1804.3</td>\n",
       "      <td>0.0</td>\n",
       "      <td>4005.0</td>\n",
       "      <td>1030.0</td>\n",
       "      <td>0.0</td>\n",
       "      <td>0.0</td>\n",
       "      <td>...</td>\n",
       "      <td>328430.5</td>\n",
       "      <td>6496.8</td>\n",
       "      <td>8581.0</td>\n",
       "      <td>0.0</td>\n",
       "      <td>19736.0</td>\n",
       "      <td>10352.0</td>\n",
       "      <td>0.0</td>\n",
       "      <td>1775.0</td>\n",
       "      <td>0.0</td>\n",
       "      <td>0.0</td>\n",
       "    </tr>\n",
       "    <tr>\n",
       "      <th>79</th>\n",
       "      <td>87</td>\n",
       "      <td>Чукотский автономный округ</td>\n",
       "      <td>0.0</td>\n",
       "      <td>0.0</td>\n",
       "      <td>0.0</td>\n",
       "      <td>0.0</td>\n",
       "      <td>0.0</td>\n",
       "      <td>200.0</td>\n",
       "      <td>0.0</td>\n",
       "      <td>0.0</td>\n",
       "      <td>...</td>\n",
       "      <td>0.0</td>\n",
       "      <td>0.0</td>\n",
       "      <td>0.0</td>\n",
       "      <td>0.0</td>\n",
       "      <td>0.0</td>\n",
       "      <td>200.0</td>\n",
       "      <td>0.0</td>\n",
       "      <td>0.0</td>\n",
       "      <td>0.0</td>\n",
       "      <td>0.0</td>\n",
       "    </tr>\n",
       "    <tr>\n",
       "      <th>80</th>\n",
       "      <td>90</td>\n",
       "      <td>Республика Крым</td>\n",
       "      <td>240415.1</td>\n",
       "      <td>148636.6</td>\n",
       "      <td>102487.2</td>\n",
       "      <td>3752.5</td>\n",
       "      <td>0.0</td>\n",
       "      <td>229653.1</td>\n",
       "      <td>0.0</td>\n",
       "      <td>0.0</td>\n",
       "      <td>...</td>\n",
       "      <td>3867.1</td>\n",
       "      <td>696762.4</td>\n",
       "      <td>0.0</td>\n",
       "      <td>864.4</td>\n",
       "      <td>0.0</td>\n",
       "      <td>178537.6</td>\n",
       "      <td>0.0</td>\n",
       "      <td>0.0</td>\n",
       "      <td>0.0</td>\n",
       "      <td>4600.0</td>\n",
       "    </tr>\n",
       "    <tr>\n",
       "      <th>81</th>\n",
       "      <td>91</td>\n",
       "      <td>Севастополь</td>\n",
       "      <td>61383.9</td>\n",
       "      <td>344676.7</td>\n",
       "      <td>0.0</td>\n",
       "      <td>0.0</td>\n",
       "      <td>0.0</td>\n",
       "      <td>7262.5</td>\n",
       "      <td>0.0</td>\n",
       "      <td>46990.2</td>\n",
       "      <td>...</td>\n",
       "      <td>0.0</td>\n",
       "      <td>519929.0</td>\n",
       "      <td>0.0</td>\n",
       "      <td>489.0</td>\n",
       "      <td>0.0</td>\n",
       "      <td>18352.6</td>\n",
       "      <td>1400.0</td>\n",
       "      <td>0.0</td>\n",
       "      <td>13338.2</td>\n",
       "      <td>140.0</td>\n",
       "    </tr>\n",
       "  </tbody>\n",
       "</table>\n",
       "<p>82 rows × 21 columns</p>\n",
       "</div>"
      ],
      "text/plain": [
       "    id                                    region  \\\n",
       "0    1                         Республика Адыгея   \n",
       "1    2                          Республика Алтай   \n",
       "2    3                   Республика Башкортостан   \n",
       "3    4                        Республика Бурятия   \n",
       "4    5                       Республика Дагестан   \n",
       "..  ..                                       ...   \n",
       "77  83                 Ненецкий автономный округ   \n",
       "78  86  Ханты-Мансийский автономный округ – Югра   \n",
       "79  87                Чукотский автономный округ   \n",
       "80  90                           Республика Крым   \n",
       "81  91                               Севастополь   \n",
       "\n",
       "    Субсидии на ГЗ из местных бюджетов 2015  \\\n",
       "0                                       0.0   \n",
       "1                                       0.0   \n",
       "2                                   77528.6   \n",
       "3                                     946.0   \n",
       "4                                    2794.0   \n",
       "..                                      ...   \n",
       "77                                      0.0   \n",
       "78                                 275572.5   \n",
       "79                                      0.0   \n",
       "80                                 240415.1   \n",
       "81                                  61383.9   \n",
       "\n",
       "    Субсидии на ГЗ из федерального бюджета 2015  \\\n",
       "0                                        8189.4   \n",
       "1                                       11627.2   \n",
       "2                                      575325.2   \n",
       "3                                      625422.6   \n",
       "4                                      310709.6   \n",
       "..                                          ...   \n",
       "77                                       3006.4   \n",
       "78                                       5733.1   \n",
       "79                                          0.0   \n",
       "80                                     148636.6   \n",
       "81                                     344676.7   \n",
       "\n",
       "    Субсидии на НИОКР из местного бюджета 2015  \\\n",
       "0                                       7266.1   \n",
       "1                                          0.0   \n",
       "2                                       6292.5   \n",
       "3                                          0.0   \n",
       "4                                       1353.6   \n",
       "..                                         ...   \n",
       "77                                         0.0   \n",
       "78                                      1804.3   \n",
       "79                                         0.0   \n",
       "80                                    102487.2   \n",
       "81                                         0.0   \n",
       "\n",
       "    Субсидии на НИОКР из федерального бюджета 2015  \\\n",
       "0                                              0.0   \n",
       "1                                           3789.9   \n",
       "2                                          47988.5   \n",
       "3                                          11176.2   \n",
       "4                                          67092.6   \n",
       "..                                             ...   \n",
       "77                                             0.0   \n",
       "78                                             0.0   \n",
       "79                                             0.0   \n",
       "80                                          3752.5   \n",
       "81                                             0.0   \n",
       "\n",
       "    Гранты из местного бюджета 2015  Гранты из федерального бюджета 2015  \\\n",
       "0                               0.0                               5450.0   \n",
       "1                            6996.0                                  0.0   \n",
       "2                           18445.2                             158981.8   \n",
       "3                            3752.6                              18798.8   \n",
       "4                            1350.0                              14665.4   \n",
       "..                              ...                                  ...   \n",
       "77                              0.0                                  0.0   \n",
       "78                           4005.0                               1030.0   \n",
       "79                              0.0                                200.0   \n",
       "80                              0.0                             229653.1   \n",
       "81                              0.0                               7262.5   \n",
       "\n",
       "    Конкурсное финансирование из местного бюджета 2015  \\\n",
       "0                                                 0.0    \n",
       "1                                               722.0    \n",
       "2                                             11519.1    \n",
       "3                                               522.1    \n",
       "4                                               950.0    \n",
       "..                                                ...    \n",
       "77                                                0.0    \n",
       "78                                                0.0    \n",
       "79                                                0.0    \n",
       "80                                                0.0    \n",
       "81                                                0.0    \n",
       "\n",
       "    Конкурсное финансирование из федерального бюджета 2015  ...  \\\n",
       "0                                              1554.7       ...   \n",
       "1                                                 0.0       ...   \n",
       "2                                            243266.2       ...   \n",
       "3                                              3882.1       ...   \n",
       "4                                              1920.0       ...   \n",
       "..                                                ...       ...   \n",
       "77                                                0.0       ...   \n",
       "78                                                0.0       ...   \n",
       "79                                                0.0       ...   \n",
       "80                                                0.0       ...   \n",
       "81                                            46990.2       ...   \n",
       "\n",
       "    Субсидии на ГЗ из местных бюджетов 2016  \\\n",
       "0                                       0.0   \n",
       "1                                       0.0   \n",
       "2                                  110671.8   \n",
       "3                                    1485.0   \n",
       "4                                     180.0   \n",
       "..                                      ...   \n",
       "77                                   1442.4   \n",
       "78                                 328430.5   \n",
       "79                                      0.0   \n",
       "80                                   3867.1   \n",
       "81                                      0.0   \n",
       "\n",
       "    Субсидии на ГЗ из федерального бюджета 2016  \\\n",
       "0                                           0.0   \n",
       "1                                       11598.5   \n",
       "2                                      569761.7   \n",
       "3                                      616645.7   \n",
       "4                                      295616.3   \n",
       "..                                          ...   \n",
       "77                                       3035.7   \n",
       "78                                       6496.8   \n",
       "79                                          0.0   \n",
       "80                                     696762.4   \n",
       "81                                     519929.0   \n",
       "\n",
       "    Субсидии на НИОКР из местного бюджета 2016  \\\n",
       "0                                          0.0   \n",
       "1                                       4071.3   \n",
       "2                                       5608.6   \n",
       "3                                       2041.3   \n",
       "4                                       5000.0   \n",
       "..                                         ...   \n",
       "77                                         0.0   \n",
       "78                                      8581.0   \n",
       "79                                         0.0   \n",
       "80                                         0.0   \n",
       "81                                         0.0   \n",
       "\n",
       "    Субсидии на НИОКР из федерального бюджета 2016  \\\n",
       "0                                              0.0   \n",
       "1                                              0.0   \n",
       "2                                          33059.9   \n",
       "3                                              0.0   \n",
       "4                                          15449.0   \n",
       "..                                             ...   \n",
       "77                                             0.0   \n",
       "78                                             0.0   \n",
       "79                                             0.0   \n",
       "80                                           864.4   \n",
       "81                                           489.0   \n",
       "\n",
       "    Гранты из местного бюджета 2016  Гранты из федерального бюджета 2016  \\\n",
       "0                               0.0                               6735.0   \n",
       "1                            1038.4                                400.0   \n",
       "2                           11982.6                             173470.0   \n",
       "3                               0.0                              14175.0   \n",
       "4                           11660.0                              12255.3   \n",
       "..                              ...                                  ...   \n",
       "77                              0.0                                  0.0   \n",
       "78                          19736.0                              10352.0   \n",
       "79                              0.0                                200.0   \n",
       "80                              0.0                             178537.6   \n",
       "81                              0.0                              18352.6   \n",
       "\n",
       "    Гранты из прочих источников 2016  \\\n",
       "0                             2900.0   \n",
       "1                             2125.0   \n",
       "2                             4074.8   \n",
       "3                            14018.1   \n",
       "4                             9687.2   \n",
       "..                               ...   \n",
       "77                               0.0   \n",
       "78                               0.0   \n",
       "79                               0.0   \n",
       "80                               0.0   \n",
       "81                            1400.0   \n",
       "\n",
       "    Конкурсное финансирование из местного бюджета 2016  \\\n",
       "0                                              4089.8    \n",
       "1                                               250.0    \n",
       "2                                             34625.9    \n",
       "3                                               125.6    \n",
       "4                                                 0.0    \n",
       "..                                                ...    \n",
       "77                                                0.0    \n",
       "78                                             1775.0    \n",
       "79                                                0.0    \n",
       "80                                                0.0    \n",
       "81                                                0.0    \n",
       "\n",
       "    Конкурсное финансирование из федерального бюджета 2016  \\\n",
       "0                                                 0.0        \n",
       "1                                                 0.0        \n",
       "2                                            243378.6        \n",
       "3                                              8550.2        \n",
       "4                                                 0.0        \n",
       "..                                                ...        \n",
       "77                                                0.0        \n",
       "78                                                0.0        \n",
       "79                                                0.0        \n",
       "80                                                0.0        \n",
       "81                                            13338.2        \n",
       "\n",
       "    Конкурсное финансирование из прочих источников 2016  \n",
       "0                                             19781.8    \n",
       "1                                               559.3    \n",
       "2                                             77580.3    \n",
       "3                                             25214.2    \n",
       "4                                              4139.5    \n",
       "..                                                ...    \n",
       "77                                                0.0    \n",
       "78                                                0.0    \n",
       "79                                                0.0    \n",
       "80                                             4600.0    \n",
       "81                                              140.0    \n",
       "\n",
       "[82 rows x 21 columns]"
      ]
     },
     "metadata": {},
     "output_type": "display_data"
    }
   ],
   "source": [
    "display(D)"
   ]
  },
  {
   "cell_type": "code",
   "execution_count": 7,
   "metadata": {},
   "outputs": [
    {
     "data": {
      "text/plain": [
       "0                            Республика Адыгея\n",
       "1                             Республика Алтай\n",
       "2                      Республика Башкортостан\n",
       "3                           Республика Бурятия\n",
       "4                          Республика Дагестан\n",
       "                        ...                   \n",
       "77                   Ненецкий автономный округ\n",
       "78    Ханты-Мансийский автономный округ – Югра\n",
       "79                  Чукотский автономный округ\n",
       "80                             Республика Крым\n",
       "81                                 Севастополь\n",
       "Name: region, Length: 82, dtype: object"
      ]
     },
     "execution_count": 7,
     "metadata": {},
     "output_type": "execute_result"
    }
   ],
   "source": [
    "D[\"region\"]"
   ]
  },
  {
   "cell_type": "code",
   "execution_count": 8,
   "metadata": {},
   "outputs": [],
   "source": [
    "r = rd.Redis()\n",
    "key = \"region\"\n",
    "for i in range(len(D[\"region\"])):\n",
    "    r.set(key+str(i),str(D[\"region\"].iloc[i]))"
   ]
  },
  {
   "cell_type": "code",
   "execution_count": 9,
   "metadata": {},
   "outputs": [
    {
     "data": {
      "text/plain": [
       "b'\\xd0\\xa0\\xd0\\xb5\\xd1\\x81\\xd0\\xbf\\xd1\\x83\\xd0\\xb1\\xd0\\xbb\\xd0\\xb8\\xd0\\xba\\xd0\\xb0 \\xd0\\x90\\xd0\\xb4\\xd1\\x8b\\xd0\\xb3\\xd0\\xb5\\xd1\\x8f'"
      ]
     },
     "execution_count": 9,
     "metadata": {},
     "output_type": "execute_result"
    }
   ],
   "source": [
    "r.get(\"region0\")"
   ]
  },
  {
   "cell_type": "code",
   "execution_count": 10,
   "metadata": {},
   "outputs": [],
   "source": [
    "r = rd.Redis()\n",
    "key = \"A\"\n",
    "for i in range(len(D[\"Субсидии на ГЗ из местных бюджетов 2015\"])):\n",
    "    r.set(key+str(i),str(D[\"Субсидии на ГЗ из местных бюджетов 2015\"].iloc[i]))"
   ]
  },
  {
   "cell_type": "code",
   "execution_count": 11,
   "metadata": {},
   "outputs": [
    {
     "data": {
      "text/plain": [
       "b'77528.6000000001'"
      ]
     },
     "execution_count": 11,
     "metadata": {},
     "output_type": "execute_result"
    }
   ],
   "source": [
    "r.get(\"A2\")"
   ]
  },
  {
   "cell_type": "code",
   "execution_count": 12,
   "metadata": {},
   "outputs": [],
   "source": [
    "r = rd.Redis()\n",
    "key = \"B\"\n",
    "for i in range(len(D[\"Субсидии на ГЗ из федерального бюджета 2015\"])):\n",
    "    r.set(key+str(i),str(D[\"Субсидии на ГЗ из федерального бюджета 2015\"].iloc[i]))"
   ]
  },
  {
   "cell_type": "code",
   "execution_count": 13,
   "metadata": {},
   "outputs": [
    {
     "data": {
      "text/plain": [
       "b'11627.2'"
      ]
     },
     "execution_count": 13,
     "metadata": {},
     "output_type": "execute_result"
    }
   ],
   "source": [
    "r.get(\"B1\")"
   ]
  },
  {
   "cell_type": "code",
   "execution_count": 14,
   "metadata": {},
   "outputs": [],
   "source": [
    "r = rd.Redis()\n",
    "key = \"C\"\n",
    "for i in range(len(D[\"Субсидии на НИОКР из местного бюджета 2015\"])):\n",
    "    r.set(key+str(i),str(D[\"Субсидии на НИОКР из местного бюджета 2015\"].iloc[i]))"
   ]
  },
  {
   "cell_type": "code",
   "execution_count": 15,
   "metadata": {},
   "outputs": [
    {
     "data": {
      "text/plain": [
       "b'7266.1'"
      ]
     },
     "execution_count": 15,
     "metadata": {},
     "output_type": "execute_result"
    }
   ],
   "source": [
    "r.get(\"C0\")"
   ]
  },
  {
   "cell_type": "code",
   "execution_count": 16,
   "metadata": {},
   "outputs": [],
   "source": [
    "r = rd.Redis()\n",
    "key = \"E\"\n",
    "for i in range(len(D[\"Субсидии на НИОКР из федерального бюджета 2015\"])):\n",
    "    r.set(key+str(i),str(D[\"Субсидии на НИОКР из федерального бюджета 2015\"].iloc[i]))"
   ]
  },
  {
   "cell_type": "code",
   "execution_count": 17,
   "metadata": {},
   "outputs": [
    {
     "data": {
      "text/plain": [
       "b'3789.9'"
      ]
     },
     "execution_count": 17,
     "metadata": {},
     "output_type": "execute_result"
    }
   ],
   "source": [
    "r.get(\"E1\")"
   ]
  },
  {
   "cell_type": "code",
   "execution_count": 18,
   "metadata": {},
   "outputs": [],
   "source": [
    "r = rd.Redis()\n",
    "key = \"F\"\n",
    "for i in range(len(D[\"Гранты из местного бюджета 2015\"])):\n",
    "    r.set(key+str(i),str(D[\"Гранты из местного бюджета 2015\"].iloc[i]))"
   ]
  },
  {
   "cell_type": "code",
   "execution_count": 19,
   "metadata": {},
   "outputs": [
    {
     "data": {
      "text/plain": [
       "b'0.0'"
      ]
     },
     "execution_count": 19,
     "metadata": {},
     "output_type": "execute_result"
    }
   ],
   "source": [
    "r.get(\"F0\")"
   ]
  },
  {
   "cell_type": "code",
   "execution_count": 20,
   "metadata": {},
   "outputs": [],
   "source": [
    "r = rd.Redis()\n",
    "key = \"G\"\n",
    "for i in range(len(D[\"Гранты из федерального бюджета 2015\"])):\n",
    "    r.set(key+str(i),str(D[\"Гранты из федерального бюджета 2015\"].iloc[i]))"
   ]
  },
  {
   "cell_type": "code",
   "execution_count": 21,
   "metadata": {},
   "outputs": [
    {
     "data": {
      "text/plain": [
       "b'5450.0'"
      ]
     },
     "execution_count": 21,
     "metadata": {},
     "output_type": "execute_result"
    }
   ],
   "source": [
    "r.get(\"G0\")"
   ]
  },
  {
   "cell_type": "code",
   "execution_count": 22,
   "metadata": {},
   "outputs": [],
   "source": [
    "r = rd.Redis()\n",
    "key = \"H\"\n",
    "for i in range(len(D[\"Конкурсное финансирование из местного бюджета 2015\"])):\n",
    "    r.set(key+str(i),str(D[\"Конкурсное финансирование из местного бюджета 2015\"].iloc[i]))"
   ]
  },
  {
   "cell_type": "code",
   "execution_count": 23,
   "metadata": {},
   "outputs": [
    {
     "data": {
      "text/plain": [
       "b'722.0'"
      ]
     },
     "execution_count": 23,
     "metadata": {},
     "output_type": "execute_result"
    }
   ],
   "source": [
    "r.get(\"H1\")"
   ]
  },
  {
   "cell_type": "code",
   "execution_count": 24,
   "metadata": {},
   "outputs": [],
   "source": [
    "r = rd.Redis()\n",
    "key = \"I\"\n",
    "for i in range(len(D[\"Конкурсное финансирование из федерального бюджета 2015\"])):\n",
    "    r.set(key+str(i),str(D[\"Конкурсное финансирование из федерального бюджета 2015\"].iloc[i]))"
   ]
  },
  {
   "cell_type": "code",
   "execution_count": 25,
   "metadata": {},
   "outputs": [
    {
     "data": {
      "text/plain": [
       "b'1554.7'"
      ]
     },
     "execution_count": 25,
     "metadata": {},
     "output_type": "execute_result"
    }
   ],
   "source": [
    "r.get(\"I0\")"
   ]
  },
  {
   "cell_type": "code",
   "execution_count": 26,
   "metadata": {},
   "outputs": [],
   "source": [
    "r = rd.Redis()\n",
    "key = \"J\"\n",
    "for i in range(len(D[\"Субсидии на ГЗ из местных бюджетов 2016\"])):\n",
    "    r.set(key+str(i),str(D[\"Субсидии на ГЗ из местных бюджетов 2016\"].iloc[i]))"
   ]
  },
  {
   "cell_type": "code",
   "execution_count": 27,
   "metadata": {},
   "outputs": [
    {
     "data": {
      "text/plain": [
       "b'110671.8'"
      ]
     },
     "execution_count": 27,
     "metadata": {},
     "output_type": "execute_result"
    }
   ],
   "source": [
    "r.get(\"J2\")"
   ]
  },
  {
   "cell_type": "code",
   "execution_count": 28,
   "metadata": {},
   "outputs": [],
   "source": [
    "r = rd.Redis()\n",
    "key = \"K\"\n",
    "for i in range(len(D[\"Субсидии на ГЗ из федерального бюджета 2016\"])):\n",
    "    r.set(key+str(i),str(D[\"Субсидии на ГЗ из федерального бюджета 2016\"].iloc[i]))"
   ]
  },
  {
   "cell_type": "code",
   "execution_count": 29,
   "metadata": {},
   "outputs": [
    {
     "data": {
      "text/plain": [
       "b'11598.5'"
      ]
     },
     "execution_count": 29,
     "metadata": {},
     "output_type": "execute_result"
    }
   ],
   "source": [
    "r.get(\"K1\")\n"
   ]
  },
  {
   "cell_type": "code",
   "execution_count": 30,
   "metadata": {},
   "outputs": [],
   "source": [
    "r = rd.Redis()\n",
    "key = \"L\"\n",
    "for i in range(len(D[\"Субсидии на НИОКР из местного бюджета 2016\"])):\n",
    "    r.set(key+str(i),str(D[\"Субсидии на НИОКР из местного бюджета 2016\"].iloc[i]))"
   ]
  },
  {
   "cell_type": "code",
   "execution_count": 31,
   "metadata": {},
   "outputs": [
    {
     "data": {
      "text/plain": [
       "b'4071.3'"
      ]
     },
     "execution_count": 31,
     "metadata": {},
     "output_type": "execute_result"
    }
   ],
   "source": [
    "r.get(\"L1\")"
   ]
  },
  {
   "cell_type": "code",
   "execution_count": 32,
   "metadata": {},
   "outputs": [],
   "source": [
    "r = rd.Redis()\n",
    "key = \"M\"\n",
    "for i in range(len(D[\"Субсидии на НИОКР из федерального бюджета 2016\"])):\n",
    "    r.set(key+str(i),str(D[\"Субсидии на НИОКР из федерального бюджета 2016\"].iloc[i]))"
   ]
  },
  {
   "cell_type": "code",
   "execution_count": 33,
   "metadata": {},
   "outputs": [
    {
     "data": {
      "text/plain": [
       "b'33059.9'"
      ]
     },
     "execution_count": 33,
     "metadata": {},
     "output_type": "execute_result"
    }
   ],
   "source": [
    "r.get(\"M2\")"
   ]
  },
  {
   "cell_type": "code",
   "execution_count": 34,
   "metadata": {},
   "outputs": [],
   "source": [
    "r = rd.Redis()\n",
    "key = \"N\"\n",
    "for i in range(len(D[\"Гранты из местного бюджета 2016\"])):\n",
    "    r.set(key+str(i),str(D[\"Гранты из местного бюджета 2016\"].iloc[i]))"
   ]
  },
  {
   "cell_type": "code",
   "execution_count": 35,
   "metadata": {},
   "outputs": [
    {
     "data": {
      "text/plain": [
       "b'11982.6'"
      ]
     },
     "execution_count": 35,
     "metadata": {},
     "output_type": "execute_result"
    }
   ],
   "source": [
    "r.get(\"N2\")"
   ]
  },
  {
   "cell_type": "code",
   "execution_count": 36,
   "metadata": {},
   "outputs": [],
   "source": [
    "r = rd.Redis()\n",
    "key = \"O\"\n",
    "for i in range(len(D[\"Гранты из федерального бюджета 2016\"])):\n",
    "    r.set(key+str(i),str(D[\"Гранты из федерального бюджета 2016\"].iloc[i]))"
   ]
  },
  {
   "cell_type": "code",
   "execution_count": 37,
   "metadata": {},
   "outputs": [
    {
     "data": {
      "text/plain": [
       "b'173470.0'"
      ]
     },
     "execution_count": 37,
     "metadata": {},
     "output_type": "execute_result"
    }
   ],
   "source": [
    "r.get(\"O2\")"
   ]
  },
  {
   "cell_type": "code",
   "execution_count": 38,
   "metadata": {},
   "outputs": [],
   "source": [
    "r = rd.Redis()\n",
    "key = \"P\"\n",
    "for i in range(len(D[\"Гранты из прочих источников 2016\"])):\n",
    "    r.set(key+str(i),str(D[\"Гранты из прочих источников 2016\"].iloc[i]))"
   ]
  },
  {
   "cell_type": "code",
   "execution_count": 39,
   "metadata": {},
   "outputs": [
    {
     "data": {
      "text/plain": [
       "b'4074.8'"
      ]
     },
     "execution_count": 39,
     "metadata": {},
     "output_type": "execute_result"
    }
   ],
   "source": [
    "r.get(\"P2\")"
   ]
  },
  {
   "cell_type": "code",
   "execution_count": 40,
   "metadata": {},
   "outputs": [],
   "source": [
    "r = rd.Redis()\n",
    "key = \"Q\"\n",
    "for i in range(len(D[\"Конкурсное финансирование из местного бюджета 2016\"])):\n",
    "    r.set(key+str(i),str(D[\"Конкурсное финансирование из местного бюджета 2016\"].iloc[i]))"
   ]
  },
  {
   "cell_type": "code",
   "execution_count": 41,
   "metadata": {},
   "outputs": [
    {
     "data": {
      "text/plain": [
       "b'34625.9'"
      ]
     },
     "execution_count": 41,
     "metadata": {},
     "output_type": "execute_result"
    }
   ],
   "source": [
    "r.get(\"Q2\")"
   ]
  },
  {
   "cell_type": "code",
   "execution_count": 42,
   "metadata": {},
   "outputs": [],
   "source": [
    "r = rd.Redis()\n",
    "key = \"R\"\n",
    "for i in range(len(D[\"Конкурсное финансирование из федерального бюджета 2016\"])):\n",
    "    r.set(key+str(i),str(D[\"Конкурсное финансирование из федерального бюджета 2016\"].iloc[i]))"
   ]
  },
  {
   "cell_type": "code",
   "execution_count": 43,
   "metadata": {},
   "outputs": [
    {
     "data": {
      "text/plain": [
       "b'243378.6'"
      ]
     },
     "execution_count": 43,
     "metadata": {},
     "output_type": "execute_result"
    }
   ],
   "source": [
    "r.get(\"R2\")"
   ]
  },
  {
   "cell_type": "code",
   "execution_count": 44,
   "metadata": {},
   "outputs": [],
   "source": [
    "r = rd.Redis()\n",
    "key = \"S\"\n",
    "for i in range(len(D[\"Конкурсное финансирование из прочих источников 2016\"])):\n",
    "    r.set(key+str(i),str(D[\"Конкурсное финансирование из прочих источников 2016\"].iloc[i]))"
   ]
  },
  {
   "cell_type": "code",
   "execution_count": 45,
   "metadata": {},
   "outputs": [
    {
     "data": {
      "text/plain": [
       "b'77580.3'"
      ]
     },
     "execution_count": 45,
     "metadata": {},
     "output_type": "execute_result"
    }
   ],
   "source": [
    "r.get(\"S2\")"
   ]
  },
  {
   "cell_type": "code",
   "execution_count": null,
   "metadata": {},
   "outputs": [],
   "source": []
  }
 ],
 "metadata": {
  "kernelspec": {
   "display_name": "Python 3",
   "language": "python",
   "name": "python3"
  },
  "language_info": {
   "codemirror_mode": {
    "name": "ipython",
    "version": 3
   },
   "file_extension": ".py",
   "mimetype": "text/x-python",
   "name": "python",
   "nbconvert_exporter": "python",
   "pygments_lexer": "ipython3",
   "version": "3.12.1"
  }
 },
 "nbformat": 4,
 "nbformat_minor": 2
}
